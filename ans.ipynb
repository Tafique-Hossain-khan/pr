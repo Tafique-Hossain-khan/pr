{
 "cells": [
  {
   "cell_type": "markdown",
   "metadata": {},
   "source": [
    "# Long Question\n"
   ]
  },
  {
   "cell_type": "markdown",
   "metadata": {},
   "source": [
    "## 1)Write a program to create two matrix if shape(m,n) and (p,q).Check whether matrix multiplication is possible or not. If possible accept Elements of two mateices and print their product.\n"
   ]
  },
  {
   "cell_type": "code",
   "execution_count": 4,
   "metadata": {},
   "outputs": [
    {
     "name": "stdout",
     "output_type": "stream",
     "text": [
      "[[2, 4, 6, 2], [6, 2, 7, 34], [65, 34, 65, 34]]\n",
      "[[23, 54, 34], [22, 64, 34], [23, 76, 34], [65, 75, 34]]\n",
      "The product of two matrix is: [[  402   970   476]\n",
      " [ 2553  3534  1666]\n",
      " [ 5948 13176  6732]]\n"
     ]
    }
   ],
   "source": [
    "import numpy as np\n",
    "m,n = 3,4\n",
    "p,q = 4,3\n",
    "\n",
    "matrix1 = []\n",
    "matrix2 = []\n",
    "\n",
    "#check if mul is possible or not\n",
    "\n",
    "if n == p:\n",
    "\n",
    "    #entering the data in the first matrix1\n",
    "    for i in range(m):\n",
    "        a=[]\n",
    "        for j in range(n):\n",
    "            num = int(input())\n",
    "            a.append(num)\n",
    "        matrix1.append(a)\n",
    "\n",
    "\n",
    "\n",
    "    #element for matrix 2\n",
    "    for i in range(p):\n",
    "        a=[]\n",
    "        for j in range(q):\n",
    "            num = int(input())\n",
    "            a.append(num)\n",
    "        matrix2.append(a)\n",
    "    print(matrix1)\n",
    "    print(matrix2)\n",
    "\n",
    "    matrix1 = np.array(matrix1)\n",
    "    matrix2 = np.array(matrix2)\n",
    "\n",
    "    mul = matrix1 @ matrix2\n",
    "    print(\"The product of two matrix is:\",mul)\n",
    "else:\n",
    "    print('Matrix mull is not possible')\n",
    "    \n",
    "\n"
   ]
  },
  {
   "cell_type": "markdown",
   "metadata": {},
   "source": [
    "## 2).write a program to read the contents of a text file ‘STORY.TXT’Display the frequency of words ‘the’,’is’ and ‘are’ in it.\n"
   ]
  },
  {
   "cell_type": "code",
   "execution_count": 12,
   "metadata": {},
   "outputs": [
    {
     "name": "stdout",
     "output_type": "stream",
     "text": [
      "the is are the counting is are the the is are\n",
      "The frequency of the : 4\n",
      "The frequency of is : 3\n",
      "The frequency of are : 3\n"
     ]
    }
   ],
   "source": [
    "f = open('stroy.txt','w')\n",
    "f.write('the is are the counting is are the the is are')\n",
    "f.close()\n",
    "\n",
    "# Reading the file\n",
    "f = open('stroy.txt','r')\n",
    "text = f.read()\n",
    "print(text)\n",
    "\n",
    "# counting\n",
    "the_count = 0\n",
    "is_count = 0\n",
    "are_count = 0\n",
    "for i in text.split(' '):\n",
    "    if i =='the':\n",
    "        the_count +=1\n",
    "    elif i == 'is':\n",
    "        is_count +=1\n",
    "    elif i == 'are':\n",
    "        are_count +=1\n",
    "        \n",
    "print('The frequency of the :',the_count)\n",
    "print('The frequency of is :',is_count)\n",
    "print('The frequency of are :',are_count)\n",
    "\n"
   ]
  },
  {
   "cell_type": "markdown",
   "metadata": {},
   "source": [
    "## 7).write a program to read the contents of a binary file ’SALES.DAT’Print details of all product whose sales amount>25000 assumingThat each record is stored in the following format.[PID,PNAME,QTY,SALEAMOUNT].\n"
   ]
  },
  {
   "cell_type": "markdown",
   "metadata": {},
   "source": [
    "##"
   ]
  },
  {
   "cell_type": "code",
   "execution_count": 22,
   "metadata": {},
   "outputs": [
    {
     "name": "stdout",
     "output_type": "stream",
     "text": [
      "[[1, 'John Smith', 10, 1000], [2, 'Jane Doe', 5, 52000], [3, 'Mike Johnson', 8, 800], [4, 'Sarah Thompson', 12, 1200], [5, 'David Lee', 15, 122500]]\n",
      "[2, 'Jane Doe', 5, 52000]\n",
      "[5, 'David Lee', 15, 122500]\n"
     ]
    }
   ],
   "source": [
    "import pickle\n",
    "sales_data = [\n",
    "    [1, \"John Smith\", 10, 1000],\n",
    "    [2, \"Jane Doe\", 5, 52000],\n",
    "    [3, \"Mike Johnson\", 8, 800],\n",
    "    [4, \"Sarah Thompson\", 12, 1200],\n",
    "    [5, \"David Lee\", 15, 122500]\n",
    "]\n",
    "\n",
    "with open('sale.dat','wb') as file:\n",
    "    pickle.dump(sales_data,file)\n",
    "\n",
    "with open('sale.dat','rb') as file:\n",
    "    data = pickle.load(file)\n",
    "\n",
    "print(data)\n",
    "\n",
    "for i in data:\n",
    "    if i[3] > 2500:\n",
    "        print(i)\n",
    "    \n"
   ]
  },
  {
   "cell_type": "markdown",
   "metadata": {},
   "source": [
    "## 8). Write a program to accept some string from the keyboard and display its characters by index wise(both positive and negative index) .\n"
   ]
  },
  {
   "cell_type": "code",
   "execution_count": 58,
   "metadata": {},
   "outputs": [
    {
     "name": "stdout",
     "output_type": "stream",
     "text": [
      "i am tafique\n",
      "\n",
      "Positive Indexing\n",
      "0 : i\n",
      "1 :  \n",
      "2 : a\n",
      "3 : m\n",
      "4 :  \n",
      "5 : t\n",
      "6 : a\n",
      "7 : f\n",
      "8 : i\n",
      "9 : q\n",
      "10 : u\n",
      "11 : e\n",
      "\t\n",
      "Negative Indexing\n",
      "-12 : i\n",
      "-11 :  \n",
      "-10 : a\n",
      "-9 : m\n",
      "-8 :  \n",
      "-7 : t\n",
      "-6 : a\n",
      "-5 : f\n",
      "-4 : i\n",
      "-3 : q\n",
      "-2 : u\n",
      "-1 : e\n"
     ]
    }
   ],
   "source": [
    "\n",
    "str = input('Enter a string:')\n",
    "print(str)\n",
    "print()\n",
    "print('Positive Indexing')\n",
    "index = 0\n",
    "for i in str:    \n",
    "    print(index,':' ,i)\n",
    "    index +=1\n",
    "print('\\t')\n",
    "\n",
    "print('Negative Indexing')\n",
    "\n",
    "index2 = -len(str)\n",
    "for j in str:\n",
    "    print(index2, \":\", j)\n",
    "    index2 +=1\n"
   ]
  },
  {
   "cell_type": "markdown",
   "metadata": {},
   "source": [
    "## 9). Write a  program to reverse order of words without using slice operator."
   ]
  },
  {
   "cell_type": "code",
   "execution_count": 61,
   "metadata": {},
   "outputs": [
    {
     "name": "stdout",
     "output_type": "stream",
     "text": [
      "original text: this is python\n",
      "\n",
      "reversed Text: python is this\n"
     ]
    }
   ],
   "source": [
    "s = input('Enter the text:')\n",
    "word = s.split()\n",
    "word.reverse()\n",
    "reversed_string = ' '.join(word)\n",
    "print(\"original text:\",s)\n",
    "print()\n",
    "print('reversed Text:',reversed_string)\n",
    "\n",
    "\n",
    "\n"
   ]
  },
  {
   "cell_type": "markdown",
   "metadata": {},
   "source": [
    "# FOCUSSED SHORT TYPE QUESTION"
   ]
  },
  {
   "cell_type": "markdown",
   "metadata": {},
   "source": [
    "## 1.write a program to count the word ‘was’ in a textfile message.txt."
   ]
  },
  {
   "cell_type": "code",
   "execution_count": 64,
   "metadata": {},
   "outputs": [
    {
     "name": "stdout",
     "output_type": "stream",
     "text": [
      "was was was was\n",
      "The frequency of was : 4\n"
     ]
    }
   ],
   "source": [
    "f = open('message.txt','w')\n",
    "f.write('was was was was')\n",
    "f.close()\n",
    "\n",
    "f = open('message.txt','r')\n",
    "text = f.read()\n",
    "\n",
    "print(text)\n",
    "was_count = 0 \n",
    "for i in text.split(' '):\n",
    "    if i == 'was':\n",
    "        was_count +=1\n",
    "\n",
    "print('The frequency of was :', was_count)"
   ]
  },
  {
   "cell_type": "markdown",
   "metadata": {},
   "source": [
    "## 2.write a python code to create 2 matrices of shape(3,4) and print the result of element wise sum,difference,product and quotient.\n"
   ]
  },
  {
   "cell_type": "code",
   "execution_count": 67,
   "metadata": {},
   "outputs": [
    {
     "name": "stdout",
     "output_type": "stream",
     "text": [
      "[[43, 3, 43, 75], [75, 34, 75, 34], [64, 55, 65, 43]]\n",
      "[[64, 75, 34, 75], [85, 4, 6, 5], [7, 5, 75, 7]]\n",
      "sum: [[107  78  77 150]\n",
      " [160  38  81  39]\n",
      " [ 71  60 140  50]]\n",
      "sub: [[-21 -72   9   0]\n",
      " [-10  30  69  29]\n",
      " [ 57  50 -10  36]]\n",
      "mul: [[2752  225 1462 5625]\n",
      " [6375  136  450  170]\n",
      " [ 448  275 4875  301]]\n",
      "Div: [[ 0.671875    0.04        1.26470588  1.        ]\n",
      " [ 0.88235294  8.5        12.5         6.8       ]\n",
      " [ 9.14285714 11.          0.86666667  6.14285714]]\n"
     ]
    }
   ],
   "source": [
    "import numpy as np\n",
    "m,n = 3,4\n",
    "matrix1 = []\n",
    "matrix2 = []\n",
    "\n",
    "for i in range(m):\n",
    "    a=[]\n",
    "    for j in range(n):\n",
    "        num = int(input())\n",
    "        a.append(num)\n",
    "    matrix1.append(a)\n",
    "\n",
    "\n",
    "\n",
    "    #element for matrix 2\n",
    "for i in range(m):\n",
    "    a=[]\n",
    "    for j in range(n):\n",
    "        num = int(input())\n",
    "        a.append(num)\n",
    "    matrix2.append(a)\n",
    "\n",
    "print(matrix1)\n",
    "print(matrix2)\n",
    "\n",
    "matrix1 = np.array(matrix1)\n",
    "matrix2 = np.array(matrix2)\n",
    "\n",
    "print('sum:', matrix1+matrix2)\n",
    "print('sub:',matrix1-matrix2)\n",
    "print('mul:',matrix1 * matrix2)\n",
    "print('Div:', matrix1/matrix2)\n",
    "\n",
    "\n"
   ]
  },
  {
   "cell_type": "markdown",
   "metadata": {},
   "source": [
    "## 5)write a program to print the student whose cgpa is greater than 7.5 in a binary file student.dat.\n"
   ]
  },
  {
   "cell_type": "code",
   "execution_count": 71,
   "metadata": {},
   "outputs": [
    {
     "name": "stdout",
     "output_type": "stream",
     "text": [
      "[[1, 'Tapas', 8.5], [2, 'Subrajit', 9.0], [3, 'swapna', 7.8], [4, 'Tafique', 8.0], [5, 'Linden', 9.5]]\n",
      "Tapas\n",
      "Subrajit\n",
      "swapna\n",
      "Tafique\n",
      "Linden\n"
     ]
    }
   ],
   "source": [
    "import pickle\n",
    "students = [\n",
    "    [1, \"Tapas\", 8.5],\n",
    "    [2, \"Subrajit\", 9.0],\n",
    "    [3, \"swapna\", 7.8],\n",
    "    [4, \"Tafique\", 8.0],\n",
    "    [5, \"Linden\", 9.5]\n",
    "]\n",
    "\n",
    "with open('student.dat','wb') as file:\n",
    "    pickle.dump(students,file)\n",
    "\n",
    "with open('student.dat','rb') as file:\n",
    "    data = pickle.load(file)\n",
    "\n",
    "print(data)\n",
    "\n",
    "for i in data:\n",
    "    if i[2] > 7.5:\n",
    "        print(i[1])"
   ]
  },
  {
   "cell_type": "markdown",
   "metadata": {},
   "source": [
    "## 7)Write a program to store the marks of five student in four different subjectin a numpy arrayprint the roll no of student having highest average.print the subject having highest average. \n"
   ]
  },
  {
   "cell_type": "code",
   "execution_count": null,
   "metadata": {},
   "outputs": [],
   "source": []
  },
  {
   "cell_type": "markdown",
   "metadata": {},
   "source": [
    "## 8)write a program to accept a matrix of  order n as user input  print its Transpose also print whether or it is a symmetric matrix.\n"
   ]
  },
  {
   "cell_type": "code",
   "execution_count": 82,
   "metadata": {},
   "outputs": [
    {
     "name": "stdout",
     "output_type": "stream",
     "text": [
      "[[3 2 4]\n",
      " [5 2 5]\n",
      " [7 4 8]]\n",
      "\n",
      "Transpose of matrix: [[3 5 7]\n",
      " [2 2 4]\n",
      " [4 5 8]]\n",
      "Not symmetric\n"
     ]
    }
   ],
   "source": [
    "import numpy as np\n",
    "\n",
    "n = 3\n",
    "\n",
    "##entering the element of the matrix\n",
    "matrix1 = []\n",
    "\n",
    "for i in range(n):\n",
    "    a=[]\n",
    "    for j in range(n):\n",
    "        num = int(input())\n",
    "        a.append(num)\n",
    "    matrix1.append(a)\n",
    "matrix1 = np.array(matrix1)\n",
    "\n",
    "transpose = matrix1.T\n",
    "print(matrix1)\n",
    "print()\n",
    "\n",
    "print(\"Transpose of matrix:\",transpose)\n",
    "\n",
    "if np.array_equal(matrix1,transpose):\n",
    "    print('symmetric')\n",
    "else:\n",
    "    print(\"Not symmetric\")"
   ]
  },
  {
   "cell_type": "markdown",
   "metadata": {},
   "source": [
    "## 9)write a program to create a file and store contents"
   ]
  },
  {
   "cell_type": "code",
   "execution_count": 84,
   "metadata": {},
   "outputs": [
    {
     "name": "stdout",
     "output_type": "stream",
     "text": [
      "Subhrajit is going to gym and making body\n"
     ]
    }
   ],
   "source": [
    "f = open('subhrajit_gym.txt','w')\n",
    "f.write('Subhrajit is going to gym and making body')\n",
    "f.close()\n",
    "\n",
    "f = open('subhrajit_gym.txt','r')\n",
    "content = f.read()\n",
    "print(content)"
   ]
  },
  {
   "cell_type": "markdown",
   "metadata": {},
   "source": []
  },
  {
   "cell_type": "markdown",
   "metadata": {},
   "source": [
    "## 12). write a program to create a file student csv to store name, rollno  and cgpa of n students."
   ]
  },
  {
   "cell_type": "code",
   "execution_count": null,
   "metadata": {},
   "outputs": [],
   "source": [
    "import csv\n",
    "\n",
    "n = int(input(\"Enter the number of students: \"))\n",
    "\n",
    "# Create a list to store the student data\n",
    "students = []\n",
    "\n",
    "# Take input for each student and append to the list\n",
    "for i in range(n):\n",
    "    name = input(\"Enter the name of student {}: \".format(i+1))\n",
    "    rollno = input(\"Enter the roll number of student {}: \".format(i+1))\n",
    "    cgpa = input(\"Enter the CGPA of student {}: \".format(i+1))\n",
    "    students.append([name, rollno, cgpa])\n",
    "\n",
    "# Write the student data to a CSV file\n",
    "with open(\"student.csv\", \"w\", newline=\"\") as file:\n",
    "    writer = csv.writer(file)\n",
    "    writer.writerow([\"Name\", \"Roll No\", \"CGPA\"])\n",
    "    writer.writerows(students)\n",
    "\n",
    "print(\"Student data written to student.csv file.\")"
   ]
  },
  {
   "cell_type": "markdown",
   "metadata": {},
   "source": [
    "## 13). write a program to input a sentence and display each word along with its frequency."
   ]
  },
  {
   "cell_type": "code",
   "execution_count": 95,
   "metadata": {},
   "outputs": [
    {
     "name": "stdout",
     "output_type": "stream",
     "text": [
      "subhrajit is going to gym\n",
      "subhrajit : 9\n",
      "is : 2\n",
      "going : 5\n",
      "to : 2\n",
      "gym : 3\n"
     ]
    }
   ],
   "source": [
    "str = input('Enter the string:')\n",
    "print(str)\n",
    "\n",
    "for i in str.split(' '):\n",
    "    print(i,':',len(i))"
   ]
  },
  {
   "cell_type": "markdown",
   "metadata": {},
   "source": [
    "## 14). Write a program to concatenate two  numpy array."
   ]
  },
  {
   "cell_type": "code",
   "execution_count": 94,
   "metadata": {},
   "outputs": [
    {
     "name": "stdout",
     "output_type": "stream",
     "text": [
      "[1 2 3 4 5 6]\n"
     ]
    }
   ],
   "source": [
    "import numpy as np\n",
    "\n",
    "# Create two NumPy arrays\n",
    "a = np.array([1, 2, 3])\n",
    "b = np.array([4, 5, 6])\n",
    "\n",
    "# Concatenate the two arrays\n",
    "c = np.concatenate([a, b])\n",
    "\n",
    "# Print the concatenated array\n",
    "print(c)"
   ]
  },
  {
   "cell_type": "code",
   "execution_count": null,
   "metadata": {},
   "outputs": [],
   "source": []
  }
 ],
 "metadata": {
  "kernelspec": {
   "display_name": "Python 3",
   "language": "python",
   "name": "python3"
  },
  "language_info": {
   "codemirror_mode": {
    "name": "ipython",
    "version": 3
   },
   "file_extension": ".py",
   "mimetype": "text/x-python",
   "name": "python",
   "nbconvert_exporter": "python",
   "pygments_lexer": "ipython3",
   "version": "3.10.7"
  },
  "orig_nbformat": 4
 },
 "nbformat": 4,
 "nbformat_minor": 2
}
